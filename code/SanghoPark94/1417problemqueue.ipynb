{
 "cells": [
  {
   "cell_type": "code",
   "execution_count": null,
   "id": "7286e986-5a1a-46e3-88e8-1f2fd0b0d6f0",
   "metadata": {},
   "outputs": [],
   "source": [
    "def solve(input_list : list) -> int:\n",
    "    dasom=input_list[0] \n",
    "    compe=input_list[1:N]\n",
    "    compe=sorted(compe,reverse=True)\n",
    "    cnt=0\n",
    "    \n",
    "    if N==1:\n",
    "        print(cnt)\n",
    "    \n",
    "    else:\n",
    "        while dasom<=compe[0]:\n",
    "            dasom+=1\n",
    "            compe[0]-=1\n",
    "            compe=sorted(compe,reverse=True)\n",
    "            cnt+=1\n",
    "    \n",
    "        print(cnt)\n",
    "\n",
    "        \n",
    "if __name__=='__main__':\n",
    "    \n",
    "    N=int(input())\n",
    "    vote_list=[]\n",
    "    \n",
    "    for i in range(N):\n",
    "        vote_list.append(int(input()))\n",
    "    \n",
    "    solve(vote_list)"
   ]
  }
 ],
 "metadata": {
  "kernelspec": {
   "display_name": "Python 3 (ipykernel)",
   "language": "python",
   "name": "python3"
  },
  "language_info": {
   "codemirror_mode": {
    "name": "ipython",
    "version": 3
   },
   "file_extension": ".py",
   "mimetype": "text/x-python",
   "name": "python",
   "nbconvert_exporter": "python",
   "pygments_lexer": "ipython3",
   "version": "3.9.7"
  }
 },
 "nbformat": 4,
 "nbformat_minor": 5
}
